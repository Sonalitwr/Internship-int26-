{
 "cells": [
  {
   "cell_type": "markdown",
   "id": "17aabd11",
   "metadata": {},
   "source": [
    "# Q11 FACTORIAL "
   ]
  },
  {
   "cell_type": "markdown",
   "id": "c1d483ed",
   "metadata": {},
   "source": [
    "fatorial- the product of integer and all integers below it "
   ]
  },
  {
   "cell_type": "code",
   "execution_count": 1,
   "id": "dcaf6959",
   "metadata": {},
   "outputs": [],
   "source": [
    "def factorial_of_number(n):\n",
    "    if n==1:\n",
    "        return 1 #factorial of 1 is 1 , so that the recusrion function stops at 1 and does not proceedto 0\n",
    "    else:\n",
    "        return(n*factorial_of_number(n-1))\n",
    "    \n",
    "    "
   ]
  },
  {
   "cell_type": "code",
   "execution_count": 6,
   "id": "01f5bbe5",
   "metadata": {},
   "outputs": [
    {
     "name": "stdout",
     "output_type": "stream",
     "text": [
      "enter the number you want to calculate factorial of8\n",
      "40320\n"
     ]
    }
   ],
   "source": [
    "x=int(input(\"enter the number you want to calculate factorial of \")) #taking user input\n",
    "if x==0:\n",
    "    print(\"Sorry!! the factorial does not exist\")    #if user input is 0 or negative\n",
    "elif x<0:\n",
    "    print(\"Sorry!! the factorial does not exist\")\n",
    "else:\n",
    "    print(factorial_of_number(x))"
   ]
  },
  {
   "cell_type": "markdown",
   "id": "ad6bf7ef",
   "metadata": {},
   "source": [
    "# Q12 PRIME NUMBER OR COMPOSITE NUMBER"
   ]
  },
  {
   "cell_type": "markdown",
   "id": "512fd36c",
   "metadata": {},
   "source": [
    "prime number - these are the numbers which only have 2 factors. example 5 has factors 1 and 5 i e exactly 2 \n"
   ]
  },
  {
   "cell_type": "markdown",
   "id": "2284ec89",
   "metadata": {},
   "source": [
    "composite number - these are the numbers which have more than 2 factors. example 6 has factors 2,3 and 1 i e more than 2\n",
    "1 and 0 are neither counted as prime nor composite \n"
   ]
  },
  {
   "cell_type": "code",
   "execution_count": 11,
   "id": "2e7a6c5c",
   "metadata": {},
   "outputs": [
    {
     "name": "stdout",
     "output_type": "stream",
     "text": [
      "Enter the number you want to check789\n",
      "the number is not prime but composite number\n"
     ]
    }
   ],
   "source": [
    "num=int(input(\"Enter the number you want to check-\"))    #take input from user\n",
    "if num==0 or num==1:\n",
    "    print(\"The number is neither prime nor composite\")                \n",
    "elif num>1:\n",
    "    for i in range(2,num):\n",
    "        if num%i==0:                           #if with any number within the given range gives 0 as remainder after division then its not prime\n",
    "            print(\"The number is not prime but composite number\")\n",
    "            break\n",
    "    else:\n",
    "        print(\"The number is prime but not composite\")\n",
    "else:\n",
    "    print(\"Please enter positive number\")"
   ]
  },
  {
   "cell_type": "markdown",
   "id": "cd252271",
   "metadata": {},
   "source": [
    "# Q13 PALINDROME "
   ]
  },
  {
   "cell_type": "markdown",
   "id": "e5e6c671",
   "metadata": {},
   "source": [
    "Palindrome are strings that are same asread from left to right and right to left "
   ]
  },
  {
   "cell_type": "code",
   "execution_count": 24,
   "id": "c2df11f6",
   "metadata": {},
   "outputs": [],
   "source": [
    "def check_palindrome(string1):\n",
    "    string2 = string1[::-1]\n",
    "    if string1==string2:\n",
    "        print(\"This string is a palindrome\")\n",
    "    else:\n",
    "        print(\"This string is not a palindrome\")"
   ]
  },
  {
   "cell_type": "code",
   "execution_count": 26,
   "id": "20c63a16",
   "metadata": {},
   "outputs": [
    {
     "name": "stdout",
     "output_type": "stream",
     "text": [
      "Enter the stringwow\n",
      "This string is a palindrome\n"
     ]
    }
   ],
   "source": [
    "text=input(\"Enter the string \")\n",
    "check_palindrome(text)"
   ]
  },
  {
   "cell_type": "markdown",
   "id": "bd265ef2",
   "metadata": {},
   "source": [
    "# Q14 Third sideof RA triangle "
   ]
  },
  {
   "cell_type": "markdown",
   "id": "894c2943",
   "metadata": {},
   "source": [
    "I am assuming to find hypotenuse when the height and base are given.\n",
    "the formula used will be a^2 = b^2 + c^2 where a is hypotenuse , b is base and c is height."
   ]
  },
  {
   "cell_type": "code",
   "execution_count": 30,
   "id": "6c9a29b4",
   "metadata": {},
   "outputs": [
    {
     "name": "stdout",
     "output_type": "stream",
     "text": [
      "Enter the base of the right angled triangle 3\n",
      "ENter the height of the right angled triangle 4\n",
      "Hypotenuse of the triangle is  5\n"
     ]
    }
   ],
   "source": [
    "def hypotenuse(base,height):\n",
    "    sum_of_two_sides=((base)**2) + ((height)**2)\n",
    "    third_side=int(sum_of_two_sides**(1/2))\n",
    "    print(\"Hypotenuse of the triangle is \",third_side)\n",
    "    \n",
    "\n",
    "\n",
    "x=int(input(\"Enter the base of the right angled triangle \"))\n",
    "y=int(input(\"Enter the height of the right angled triangle \"))\n",
    "hypotenuse(x,y)"
   ]
  },
  {
   "cell_type": "markdown",
   "id": "f76f0e3a",
   "metadata": {},
   "source": [
    "# Q15 Frequency of character in string"
   ]
  },
  {
   "cell_type": "code",
   "execution_count": 36,
   "id": "eb319969",
   "metadata": {},
   "outputs": [
    {
     "name": "stdout",
     "output_type": "stream",
     "text": [
      "enter the stringsonaliisagoodgirl\n",
      "{'s': 2, 'o': 3, 'n': 1, 'a': 2, 'l': 2, 'i': 3, 'g': 2, 'd': 1, 'r': 1}\n"
     ]
    }
   ],
   "source": [
    "count = {}            #initialise the counter. curly braces indicates its a dictionary.\n",
    "def count_frequency(string1):\n",
    "    for i in string1:            #all elements are traversed\n",
    "        if i in count:\n",
    "            count[i] += 1         #each time an element is repeated counter value adds up.\n",
    "        else:\n",
    "            count[i] = 1       #otherwise the element has occured only once \n",
    "    print(str(count))\n",
    "\n",
    "    \n",
    "    \n",
    "text=input(\"enter the string\")\n",
    "count_frequency(text)"
   ]
  },
  {
   "cell_type": "code",
   "execution_count": null,
   "id": "5fd781f4",
   "metadata": {},
   "outputs": [],
   "source": []
  }
 ],
 "metadata": {
  "kernelspec": {
   "display_name": "Python 3",
   "language": "python",
   "name": "python3"
  },
  "language_info": {
   "codemirror_mode": {
    "name": "ipython",
    "version": 3
   },
   "file_extension": ".py",
   "mimetype": "text/x-python",
   "name": "python",
   "nbconvert_exporter": "python",
   "pygments_lexer": "ipython3",
   "version": "3.8.8"
  }
 },
 "nbformat": 4,
 "nbformat_minor": 5
}
